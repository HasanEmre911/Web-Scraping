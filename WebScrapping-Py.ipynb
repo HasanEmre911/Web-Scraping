{
 "cells": [
  {
   "cell_type": "code",
   "execution_count": 1,
   "id": "a6487d2a-7ec0-4d27-828c-608cf32dd352",
   "metadata": {},
   "outputs": [],
   "source": [
    "from bs4 import BeautifulSoup\n",
    "import requests"
   ]
  },
  {
   "cell_type": "code",
   "execution_count": 2,
   "id": "c5dde7c9-d147-468f-b710-beff29c67cd1",
   "metadata": {},
   "outputs": [],
   "source": [
    "url = 'https://tr.wikipedia.org/wiki/Olimpiyat_Oyunlar%C4%B1%27nda_T%C3%BCrkiye'\n",
    "page = requests.get(url)\n",
    "soup = BeautifulSoup(page.text, 'html')"
   ]
  },
  {
   "cell_type": "code",
   "execution_count": 4,
   "id": "7e8ed219-99b5-4955-8446-e7dea17bfe48",
   "metadata": {},
   "outputs": [],
   "source": [
    "table = soup.find_all('table')[6]"
   ]
  },
  {
   "cell_type": "code",
   "execution_count": 6,
   "id": "4261a3da-e7dd-4449-8fae-4dfe12ec3e21",
   "metadata": {},
   "outputs": [
    {
     "data": {
      "text/plain": [
       "[<th style=\"width:6em\">Madalya\n",
       " </th>,\n",
       " <th style=\"width:12em\">Oyunlar\n",
       " </th>,\n",
       " <th style=\"width:12em\">İsim\n",
       " </th>,\n",
       " <th>Spor\n",
       " </th>,\n",
       " <th>Etkinlik\n",
       " </th>]"
      ]
     },
     "execution_count": 6,
     "metadata": {},
     "output_type": "execute_result"
    }
   ],
   "source": [
    "table.find_all('th')"
   ]
  },
  {
   "cell_type": "code",
   "execution_count": 7,
   "id": "04c5d60d-b703-40b7-adc3-a1e1a075f2ab",
   "metadata": {},
   "outputs": [],
   "source": [
    "tp_titles = table.find_all('th')"
   ]
  },
  {
   "cell_type": "code",
   "execution_count": 9,
   "id": "8262f4b5-8737-4674-a260-3be493e59f71",
   "metadata": {},
   "outputs": [],
   "source": [
    "titles = [title.text.strip() for title in tp_titles]"
   ]
  },
  {
   "cell_type": "code",
   "execution_count": 10,
   "id": "64344c17-1322-479b-8cff-48aad232ec46",
   "metadata": {},
   "outputs": [
    {
     "data": {
      "text/plain": [
       "['Madalya', 'Oyunlar', 'İsim', 'Spor', 'Etkinlik']"
      ]
     },
     "execution_count": 10,
     "metadata": {},
     "output_type": "execute_result"
    }
   ],
   "source": [
    "titles"
   ]
  },
  {
   "cell_type": "code",
   "execution_count": 11,
   "id": "cdb0ba19-d1f8-409e-9f47-e08894f8f43c",
   "metadata": {},
   "outputs": [],
   "source": [
    "import pandas as pd"
   ]
  },
  {
   "cell_type": "code",
   "execution_count": 12,
   "id": "73177409-6a01-41fe-88d5-d975a2c47126",
   "metadata": {},
   "outputs": [],
   "source": [
    "hd = pd.DataFrame(columns=titles)"
   ]
  },
  {
   "cell_type": "code",
   "execution_count": 13,
   "id": "5315ce87-3dc3-4d6b-9b07-ab71f3f9afae",
   "metadata": {},
   "outputs": [
    {
     "data": {
      "text/html": [
       "<div>\n",
       "<style scoped>\n",
       "    .dataframe tbody tr th:only-of-type {\n",
       "        vertical-align: middle;\n",
       "    }\n",
       "\n",
       "    .dataframe tbody tr th {\n",
       "        vertical-align: top;\n",
       "    }\n",
       "\n",
       "    .dataframe thead th {\n",
       "        text-align: right;\n",
       "    }\n",
       "</style>\n",
       "<table border=\"1\" class=\"dataframe\">\n",
       "  <thead>\n",
       "    <tr style=\"text-align: right;\">\n",
       "      <th></th>\n",
       "      <th>Madalya</th>\n",
       "      <th>Oyunlar</th>\n",
       "      <th>İsim</th>\n",
       "      <th>Spor</th>\n",
       "      <th>Etkinlik</th>\n",
       "    </tr>\n",
       "  </thead>\n",
       "  <tbody>\n",
       "  </tbody>\n",
       "</table>\n",
       "</div>"
      ],
      "text/plain": [
       "Empty DataFrame\n",
       "Columns: [Madalya, Oyunlar, İsim, Spor, Etkinlik]\n",
       "Index: []"
      ]
     },
     "execution_count": 13,
     "metadata": {},
     "output_type": "execute_result"
    }
   ],
   "source": [
    "hd"
   ]
  },
  {
   "cell_type": "code",
   "execution_count": 14,
   "id": "9b0d564d-5951-445e-9382-4b7dba604718",
   "metadata": {},
   "outputs": [],
   "source": [
    "datas = table.find_all('tr')"
   ]
  },
  {
   "cell_type": "code",
   "execution_count": 15,
   "id": "c17a24c5-c16a-411c-a3b7-4b2d553e283e",
   "metadata": {},
   "outputs": [],
   "source": [
    "for row in datas[1:]:\n",
    "    raw_data = row.find_all('td')\n",
    "    data1 = [data.text.strip() for data in raw_data]\n",
    "    lenght = len(hd)\n",
    "    hd.loc[lenght] = data1"
   ]
  },
  {
   "cell_type": "code",
   "execution_count": 16,
   "id": "8407f4cc-fd55-4573-9369-cde8f2cdd9e3",
   "metadata": {},
   "outputs": [
    {
     "data": {
      "text/html": [
       "<div>\n",
       "<style scoped>\n",
       "    .dataframe tbody tr th:only-of-type {\n",
       "        vertical-align: middle;\n",
       "    }\n",
       "\n",
       "    .dataframe tbody tr th {\n",
       "        vertical-align: top;\n",
       "    }\n",
       "\n",
       "    .dataframe thead th {\n",
       "        text-align: right;\n",
       "    }\n",
       "</style>\n",
       "<table border=\"1\" class=\"dataframe\">\n",
       "  <thead>\n",
       "    <tr style=\"text-align: right;\">\n",
       "      <th></th>\n",
       "      <th>Madalya</th>\n",
       "      <th>Oyunlar</th>\n",
       "      <th>İsim</th>\n",
       "      <th>Spor</th>\n",
       "      <th>Etkinlik</th>\n",
       "    </tr>\n",
       "  </thead>\n",
       "  <tbody>\n",
       "    <tr>\n",
       "      <th>0</th>\n",
       "      <td>1 Altın</td>\n",
       "      <td>1936 Berlin</td>\n",
       "      <td>Erkan, YaşarYaşar Erkan</td>\n",
       "      <td>Güreş</td>\n",
       "      <td>Erkekler grekoromen 61 kg</td>\n",
       "    </tr>\n",
       "    <tr>\n",
       "      <th>1</th>\n",
       "      <td>3 Bronz</td>\n",
       "      <td>1936 Berlin</td>\n",
       "      <td>Kireççi, AhmetAhmet Kireççi</td>\n",
       "      <td>Güreş</td>\n",
       "      <td>Erkekler serbest 79 kg</td>\n",
       "    </tr>\n",
       "    <tr>\n",
       "      <th>2</th>\n",
       "      <td>1 Altın</td>\n",
       "      <td>1948 Londra</td>\n",
       "      <td>Akar, NasuhNasuh Akar</td>\n",
       "      <td>Güreş</td>\n",
       "      <td>Erkekler serbest 57 kg</td>\n",
       "    </tr>\n",
       "    <tr>\n",
       "      <th>3</th>\n",
       "      <td>1 Altın</td>\n",
       "      <td>1948 Londra</td>\n",
       "      <td>Bilge, GazanferGazanfer Bilge</td>\n",
       "      <td>Güreş</td>\n",
       "      <td>Erkekler serbest 62 kg</td>\n",
       "    </tr>\n",
       "    <tr>\n",
       "      <th>4</th>\n",
       "      <td>1 Altın</td>\n",
       "      <td>1948 Londra</td>\n",
       "      <td>Atik, CelalCelal Atik</td>\n",
       "      <td>Güreş</td>\n",
       "      <td>Erkekler serbest 67 kg</td>\n",
       "    </tr>\n",
       "    <tr>\n",
       "      <th>...</th>\n",
       "      <td>...</td>\n",
       "      <td>...</td>\n",
       "      <td>...</td>\n",
       "      <td>...</td>\n",
       "      <td>...</td>\n",
       "    </tr>\n",
       "    <tr>\n",
       "      <th>106</th>\n",
       "      <td>3 Bronz</td>\n",
       "      <td>2024 Paris</td>\n",
       "      <td>Abdullah Yıldırmış  Mete Gazoz  Ulaş Tümer</td>\n",
       "      <td>Okçuluk</td>\n",
       "      <td>Erkekler takım</td>\n",
       "    </tr>\n",
       "    <tr>\n",
       "      <th>107</th>\n",
       "      <td>3 Bronz</td>\n",
       "      <td>2024 Paris</td>\n",
       "      <td>Buse Tosun Çavuşoğlu</td>\n",
       "      <td>Güreş</td>\n",
       "      <td>Kadınlar serbest 68 kg</td>\n",
       "    </tr>\n",
       "    <tr>\n",
       "      <th>108</th>\n",
       "      <td>3 Bronz</td>\n",
       "      <td>2024 Paris</td>\n",
       "      <td>Esra Yıldız Kahraman</td>\n",
       "      <td>Boks</td>\n",
       "      <td>Kadınlar tüy sıklet (57 kg)</td>\n",
       "    </tr>\n",
       "    <tr>\n",
       "      <th>109</th>\n",
       "      <td>3 Bronz</td>\n",
       "      <td>2024 Paris</td>\n",
       "      <td>Taha Akgül</td>\n",
       "      <td>Güreş</td>\n",
       "      <td>Erkekler serbest 125 kg</td>\n",
       "    </tr>\n",
       "    <tr>\n",
       "      <th>110</th>\n",
       "      <td>3 Bronz</td>\n",
       "      <td>2024 Paris</td>\n",
       "      <td>Nafia Kuş</td>\n",
       "      <td>Tekvando</td>\n",
       "      <td>Kadınlar +67 kg</td>\n",
       "    </tr>\n",
       "  </tbody>\n",
       "</table>\n",
       "<p>111 rows × 5 columns</p>\n",
       "</div>"
      ],
      "text/plain": [
       "     Madalya      Oyunlar                                        İsim  \\\n",
       "0    1 Altın  1936 Berlin                     Erkan, YaşarYaşar Erkan   \n",
       "1    3 Bronz  1936 Berlin                 Kireççi, AhmetAhmet Kireççi   \n",
       "2    1 Altın  1948 Londra                       Akar, NasuhNasuh Akar   \n",
       "3    1 Altın  1948 Londra               Bilge, GazanferGazanfer Bilge   \n",
       "4    1 Altın  1948 Londra                       Atik, CelalCelal Atik   \n",
       "..       ...          ...                                         ...   \n",
       "106  3 Bronz   2024 Paris  Abdullah Yıldırmış  Mete Gazoz  Ulaş Tümer   \n",
       "107  3 Bronz   2024 Paris                        Buse Tosun Çavuşoğlu   \n",
       "108  3 Bronz   2024 Paris                        Esra Yıldız Kahraman   \n",
       "109  3 Bronz   2024 Paris                                  Taha Akgül   \n",
       "110  3 Bronz   2024 Paris                                   Nafia Kuş   \n",
       "\n",
       "         Spor                     Etkinlik  \n",
       "0       Güreş    Erkekler grekoromen 61 kg  \n",
       "1       Güreş       Erkekler serbest 79 kg  \n",
       "2       Güreş       Erkekler serbest 57 kg  \n",
       "3       Güreş       Erkekler serbest 62 kg  \n",
       "4       Güreş       Erkekler serbest 67 kg  \n",
       "..        ...                          ...  \n",
       "106   Okçuluk               Erkekler takım  \n",
       "107     Güreş       Kadınlar serbest 68 kg  \n",
       "108      Boks  Kadınlar tüy sıklet (57 kg)  \n",
       "109     Güreş      Erkekler serbest 125 kg  \n",
       "110  Tekvando              Kadınlar +67 kg  \n",
       "\n",
       "[111 rows x 5 columns]"
      ]
     },
     "execution_count": 16,
     "metadata": {},
     "output_type": "execute_result"
    }
   ],
   "source": [
    "hd"
   ]
  },
  {
   "cell_type": "code",
   "execution_count": 17,
   "id": "13fbbd86-cb01-4fb5-8e3c-45363fc4b9b8",
   "metadata": {},
   "outputs": [],
   "source": [
    "hd.drop(hd.index, inplace=True) #data temizleme"
   ]
  },
  {
   "cell_type": "code",
   "execution_count": 18,
   "id": "f6bdbb74-4d17-4e42-a429-b606d09c877a",
   "metadata": {
    "scrolled": true
   },
   "outputs": [],
   "source": [
    "hd.to_excel(r'/Users/hep/Desktop/VSCode/test.xlsx', index=False)"
   ]
  }
 ],
 "metadata": {
  "kernelspec": {
   "display_name": "Python 3 (ipykernel)",
   "language": "python",
   "name": "python3"
  },
  "language_info": {
   "codemirror_mode": {
    "name": "ipython",
    "version": 3
   },
   "file_extension": ".py",
   "mimetype": "text/x-python",
   "name": "python",
   "nbconvert_exporter": "python",
   "pygments_lexer": "ipython3",
   "version": "3.12.5"
  }
 },
 "nbformat": 4,
 "nbformat_minor": 5
}
